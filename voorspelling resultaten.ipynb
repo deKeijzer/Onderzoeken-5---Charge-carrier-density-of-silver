{
 "cells": [
  {
   "cell_type": "code",
   "execution_count": 71,
   "metadata": {},
   "outputs": [],
   "source": [
    "import matplotlib.pyplot as plt\n",
    "import numpy as np\n",
    "from scipy.stats import linregress\n",
    "#%matplotlib notebook\n",
    "import TISTNplot as tn\n",
    "\n",
    "# Nodig voor latex rendering\n",
    "from matplotlib import rc\n",
    "rc('font',**{'family':'sans-serif','sans-serif':['Helvetica']})\n",
    "rc('text', usetex=True)\n",
    "plt.rc('text', usetex=True)\n",
    "plt.rc('font', family='serif')\n",
    "\n",
    "U_H = '-'\n",
    "I = '-'\n",
    "B = '-'\n",
    "d = 5*10**-5\n",
    "#n = 6.6*10**28\n",
    "e = 1.60217662*10**-19\n",
    "\n",
    "def f(I, n):\n",
    "    B = 0.3\n",
    "    d = 5*10**-5\n",
    "    #n = 6.6*10**28\n",
    "    e = 1.60217662*10**-19\n",
    "\n",
    "    return (B*I)*10**6/(n*e*d*10**28)\n",
    "\n",
    "n_list = [4.7, 2.65, 1.4, 1.15, 0.91, 8.47, 5.86]\n",
    "B = []\n",
    "U1 = []\n",
    "U2 = []\n",
    "U3 = []\n",
    "U4 = []\n",
    "U5 = []\n",
    "\n",
    "for b in range(1, 30):\n",
    "    B.append(b)\n",
    "    U1.append(f(1, b)*10**0)\n",
    "    U2.append(f(5, b)*10**0)\n",
    "    U3.append(f(10, b)*10**0)\n",
    "    U4.append(f(15, b)*10**0)\n",
    "    U5.append(f(20, b)*10**0)"
   ]
  },
  {
   "cell_type": "code",
   "execution_count": 109,
   "metadata": {},
   "outputs": [
    {
     "data": {
      "image/png": "[encoded data removed]",
      "text/plain": [
       "<matplotlib.figure.Figure at 0x1fd48859ef0>"
      ]
     },
     "metadata": {},
     "output_type": "display_data"
    }
   ],
   "source": [
    "plt.plot(B, U1, '.', label='1 A')\n",
    "plt.plot(B, U2, 'v', label=\"5 A\")\n",
    "plt.plot(B, U3, 'x', label=\"10 A\")\n",
    "plt.plot(B, U4, '+', label=\"15 A\")\n",
    "plt.plot(B, U5, '*', label=\"20 A\")\n",
    "\n",
    "\n",
    "#fill plot\n",
    "plt.fill_between(B, U1, U5, color='pink', alpha='0.3')\n",
    "\n",
    "plt.xlabel('Charge carrier density $n$ \\quad \\cdot 10^{28} \\quad [m^{-3}]')\n",
    "plt.ylabel('Hall voltage $U_H$ \\mathrm{[\\mu V]}}')\n",
    "\n",
    "#correcte opmaak\n",
    "tn.PRECISION_X = 3\n",
    "tn.PRECISION_Y = 3\n",
    "tn.fix_axis(plt.gca())\n",
    "\n",
    "plt.legend()\n",
    "plt.grid()\n",
    "#plt.xlim(1**26, 1**27)\n",
    "\n",
    "props = dict(boxstyle='square', facecolor='wheat', alpha=0.75)\n",
    "plt.text(10, 70, '$d$=5 \\cdot 10^{-5} \\quad \\mathrm{[m]} \\n $B$=0.30 \\quad \\quad \\mathrm{[T]}', verticalalignment='top', bbox=props)\n",
    "\n",
    "plt.text(4.7, 90, 'Li', verticalalignment='top', bbox=None) #\n",
    "plt.text(2.65, 90, 'Na', verticalalignment='top', bbox=None) #\n",
    "plt.text(1.4, 90, 'K', verticalalignment='top', bbox=None) #\n",
    "plt.text(1.15, 95, 'Rb', verticalalignment='top', bbox=None) #\n",
    "plt.text(0.91, 85, 'Cs', verticalalignment='top', bbox=None) #\n",
    "plt.text(8.47, 90, 'Cu', verticalalignment='top', bbox=None) #\n",
    "plt.text(5.86, 90, 'Ag', verticalalignment='top', bbox=None) #\n",
    "plt.text(5.9, 85, 'Au', verticalalignment='top', bbox=None) #\n",
    "plt.text(24.7, 85, 'Be', verticalalignment='top', bbox=None) #\n",
    "plt.text(8.61, 95, 'Mg', verticalalignment='top', bbox=None) #\n",
    "plt.text(4.61, 95, 'Ca', verticalalignment='top', bbox=None) #\n",
    "plt.text(3.55, 100, 'Sr', verticalalignment='top', bbox=None) #\n",
    "plt.text(3.15, 85, 'Ba', verticalalignment='top', bbox=None) #\n",
    "plt.text(13.2, 90, 'Zn', verticalalignment='top', bbox=None)\n",
    "plt.text(9.27, 85, 'Cd', verticalalignment='top', bbox=None)\n",
    "plt.text(18.1, 85, 'Al', verticalalignment='top', bbox=None) #\n",
    "plt.text(15.4, 90, 'Ga', verticalalignment='top', bbox=None)\n",
    "plt.text(11.5, 85, 'In', verticalalignment='top', bbox=None) #\n",
    "plt.text(10.5, 90, 'Ti', verticalalignment='top', bbox=None)#\n",
    "plt.text(14.8, 85, 'Sn', verticalalignment='top', bbox=None)\n",
    "plt.text(13.2, 85, 'Pb', verticalalignment='top', bbox=None)\n",
    "\n",
    "plt.savefig('output\\\\simulatie\\\\n.png', dpi=300)"
   ]
  },
  {
   "cell_type": "code",
   "execution_count": null,
   "metadata": {},
   "outputs": [],
   "source": []
  },
  {
   "cell_type": "code",
   "execution_count": null,
   "metadata": {},
   "outputs": [],
   "source": []
  }
 ],
 "metadata": {
  "kernelspec": {
   "display_name": "Python 3",
   "language": "python",
   "name": "python3"
  },
  "language_info": {
   "codemirror_mode": {
    "name": "ipython",
    "version": 3
   },
   "file_extension": ".py",
   "mimetype": "text/x-python",
   "name": "python",
   "nbconvert_exporter": "python",
   "pygments_lexer": "ipython3",
   "version": "3.6.0"
  }
 },
 "nbformat": 4,
 "nbformat_minor": 2
}
